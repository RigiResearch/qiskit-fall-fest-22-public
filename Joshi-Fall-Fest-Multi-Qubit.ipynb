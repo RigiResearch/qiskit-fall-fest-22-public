{
 "cells": [
  {
   "cell_type": "markdown",
   "id": "3f9983ac",
   "metadata": {},
   "source": [
    "# Multi-Qubit Circuits and Entanglement\n",
    "\n",
    "Let's build quantum circuits towards Einstein's spooky action - Entanglement.\n",
    "\n",
    "But before that, let's import the modules again."
   ]
  },
  {
   "cell_type": "code",
   "execution_count": null,
   "id": "9ea73e75",
   "metadata": {},
   "outputs": [],
   "source": [
    "# Imports from Qiskit Terra\n",
    "from qiskit.circuit import QuantumCircuit\n",
    "from qiskit.visualization import plot_bloch_vector, plot_bloch_multivector, plot_state_qsphere, plot_histogram, visualize_transition\n",
    "from qiskit.quantum_info import Pauli, PauliList, Statevector\n",
    "\n",
    "# Imports from Qiskit Aer\n",
    "from qiskit import Aer, execute"
   ]
  },
  {
   "cell_type": "markdown",
   "id": "c86c2639",
   "metadata": {},
   "source": [
    "### Multi Qubit Circuit\n",
    "\n",
    "To reiterate over how we use the $\\textit{QuantumCircuit}$ function, let us see how multi-qubit circuits are programmed.\n",
    "\n",
    "<img src=\"images/multi-qubit-circuit.png\" width=\"500\"/>\n",
    "\n",
    "\n",
    "In Ket notation, a two-qubit circuit can be represented as:\n",
    "\n",
    "$$|\\phi\\rangle = \\alpha|00\\rangle + \\beta|01\\rangle + \\gamma|10\\rangle + \\delta|11\\rangle$$\n",
    "\n",
    "where,\n",
    "\n",
    "$$|\\alpha|^2 + |\\beta|^2 + |\\gamma|^2 + |\\delta|^2 = 1$$"
   ]
  },
  {
   "cell_type": "code",
   "execution_count": null,
   "id": "82c4c897",
   "metadata": {},
   "outputs": [],
   "source": [
    "# Creation of multi-qubit circuit\n",
    "q_multi = QuantumCircuit()    # Mention multi-quantum and classical bits in args\n",
    "\n",
    "# Display circuit\n",
    "q_multi.draw()"
   ]
  },
  {
   "cell_type": "markdown",
   "id": "77bdd84b",
   "metadata": {},
   "source": [
    "## Multi Qubit Gates - CX (Controlled NOT) Gate\n",
    "\n",
    "There are certain quantum operations that are performed on more than one qubit. These operations can be applied using certain multi-qubit gates. One of these gates is a Controlled-NOT (CX) gate.\n",
    "\n",
    "Few important things to note about the CX gate are:\n",
    "\n",
    "<img src=\"images/cx-gate-notes.png\" width=\"700\"/>\n",
    "\n",
    "\n",
    "A CX gate can be applied on 2 qubits as shown below.\n",
    "\n",
    "<img src=\"images/cx-gate.png\" width=\"500\"/>\n",
    "\n",
    "CX can be represented in a matrix form as:\n",
    "\n",
    "$$CX = \\begin{bmatrix} 1 & 0 & 0 & 0 \\\\ 0 & 1 & 0 & 0 \\\\ 0 & 0 & 0 & 1 \\\\ 0 & 0 & 1 & 0\\end{bmatrix}$$"
   ]
  },
  {
   "cell_type": "code",
   "execution_count": null,
   "id": "9b890c70",
   "metadata": {},
   "outputs": [],
   "source": [
    "cx_circ = QuantumCircuit()    # Mention number of quantum and classical bits in args\n",
    "\n",
    "# Apply CX gate to the qubits [0 - Control qubit; 1 - Target qubit]\n",
    "\n",
    "# Draw the circuit\n",
    "cx_circ.draw()"
   ]
  },
  {
   "cell_type": "code",
   "execution_count": null,
   "id": "b56acbde",
   "metadata": {},
   "outputs": [],
   "source": [
    "# Bloch Sphere visualization\n",
    "state = Statevector(cx_circ)    # Statevector of the circuit\n",
    "plot_bloch_multivector(state)"
   ]
  },
  {
   "cell_type": "markdown",
   "id": "6c275b02",
   "metadata": {},
   "source": [
    "### Measuring the Multi-qubit Circuit"
   ]
  },
  {
   "cell_type": "code",
   "execution_count": null,
   "id": "702de081",
   "metadata": {},
   "outputs": [],
   "source": [
    "# Let's measaure the multi-qubit circuit\n",
    "cx_circ.measure()    # Add measurement gate with appropriate args\n",
    "\n",
    "# Draw the circuit\n",
    "cx_circ.draw()"
   ]
  },
  {
   "cell_type": "markdown",
   "id": "0bbc35f1",
   "metadata": {},
   "source": [
    "### Get results from Simulator\n",
    "\n",
    "Now that we know how simulators and quantum backends work, let us send our cx_circ to the backend and retrieve results from the measurement!"
   ]
  },
  {
   "cell_type": "code",
   "execution_count": null,
   "id": "788b083e",
   "metadata": {},
   "outputs": [],
   "source": [
    "# Import the backend\n",
    "backend = Aer.get_backend('qasm_simulator')\n",
    "\n",
    "# Creating a job and extracting results\n",
    "job = execute(cx_circ, backend = backend, shots = 1024)\n",
    "result = job.result()\n",
    "counts = result.get_counts()"
   ]
  },
  {
   "cell_type": "code",
   "execution_count": null,
   "id": "6fa6927c",
   "metadata": {},
   "outputs": [],
   "source": [
    "# Plotting the counts\n",
    "plot_histogram(counts)"
   ]
  },
  {
   "cell_type": "markdown",
   "id": "61ed0a81",
   "metadata": {},
   "source": [
    "## Reversibility of Quantum Gates\n",
    "\n",
    "One important property of quantum gates is that these gates are reversible. Applying such reversible gates twice gives you the original state back!\n",
    "\n",
    "<img src=\"images/reversible-gates.png\" width=\"400\"/>"
   ]
  },
  {
   "cell_type": "code",
   "execution_count": null,
   "id": "d604819b",
   "metadata": {},
   "outputs": [],
   "source": [
    "# Do you know some of the quantum gates are reversible? \n",
    "# Can you verify what happens when you apply these gates twice?\n",
    "\n",
    "reverse_gate_circ = QuantumCircuit(2, 2)\n",
    "\n",
    "# Apply 2 CX gates on the same qubits\n",
    "## APPLY GATE 1 HERE ##\n",
    "## APPLY GATE 2 HERE ##\n",
    "\n",
    "# Draw circuit\n",
    "reverse_gate_circ.draw()"
   ]
  },
  {
   "cell_type": "code",
   "execution_count": null,
   "id": "5f030120",
   "metadata": {},
   "outputs": [],
   "source": [
    "# Send the circuit to a simulator to check the results!"
   ]
  },
  {
   "cell_type": "markdown",
   "id": "0874b03b",
   "metadata": {},
   "source": [
    "### Universal Quantum Gate - the Toffoli Gate\n",
    "\n",
    "The Toffoli gate is the quantum counterpart of the universal NAND or NOR gates. A Toffoli gate is applied on 3 qubits. It has 2 control qubits that determine the subsequent application of a NOT gate on the third qubit.\n",
    "\n",
    "<img src=\"images/toffoli-gate.png\" width=\"350\"/>"
   ]
  },
  {
   "cell_type": "code",
   "execution_count": null,
   "id": "a67bc4eb",
   "metadata": {},
   "outputs": [],
   "source": [
    "# Your blank canvas to apply the Toffoli gate!"
   ]
  },
  {
   "cell_type": "markdown",
   "id": "54358d93",
   "metadata": {},
   "source": [
    "## Entanglement\n",
    "\n",
    "<img src=\"images/spooky.png\" width=\"500\"/>"
   ]
  },
  {
   "cell_type": "markdown",
   "id": "aea26643",
   "metadata": {},
   "source": [
    "## Creating entanglement using H and CX gates\n",
    "\n",
    "An entangled circuit can be built using the Hadamard (H) and the CX gates. The circuit can look something like below:\n",
    "\n",
    "<img src=\"images/entanglement.png\" width=\"800\"/>\n",
    "\n",
    "The resultant state produced by a 2-qubit entangled circuit is called a Bell State ! There are 4 possible Bell states that can be built using a combination of the X, Z, H and CX gates.\n",
    "\n",
    "$$|\\phi^{+}\\rangle = \\frac{1}{\\sqrt{2}} \\left( |00\\rangle + |11\\rangle\\right)$$\n",
    "\n",
    "$$|\\phi^{-}\\rangle = \\frac{1}{\\sqrt{2}} \\left( |00\\rangle - |11\\rangle\\right)$$\n",
    "\n",
    "$$|\\psi^{+}\\rangle = \\frac{1}{\\sqrt{2}} \\left( |01\\rangle + |10\\rangle\\right)$$\n",
    "\n",
    "$$|\\psi^{-}\\rangle = \\frac{1}{\\sqrt{2}} \\left( |01\\rangle + |10\\rangle\\right)$$"
   ]
  },
  {
   "cell_type": "code",
   "execution_count": null,
   "id": "c3a5d238",
   "metadata": {},
   "outputs": [],
   "source": [
    "# Let us contruct the circuit for the first Bell state |phi+>\n",
    "entangled_circ = QuantumCircuit(2, 2)\n",
    "\n",
    "# Apply H gate follwoed by a CX gate on the qubits [0 - Control qubit; 1 - Target qubit]\n",
    "\n",
    "# Draw the circuit\n",
    "entangled_circ.draw()"
   ]
  },
  {
   "cell_type": "markdown",
   "id": "bb17cd38",
   "metadata": {},
   "source": [
    "### Measuring the Entangled Circuit"
   ]
  },
  {
   "cell_type": "code",
   "execution_count": null,
   "id": "278f1b22",
   "metadata": {},
   "outputs": [],
   "source": [
    "# Let's measaure the multi-qubit circuit\n",
    "entangled_circ.measure([0, 1], [0, 1])    # Add measurement gate with appropriate args\n",
    "\n",
    "# Draw the circuit\n",
    "entangled_circ.draw()"
   ]
  },
  {
   "cell_type": "markdown",
   "id": "d29d9f11",
   "metadata": {},
   "source": [
    "### Get results from simulator"
   ]
  },
  {
   "cell_type": "code",
   "execution_count": null,
   "id": "92f30f41",
   "metadata": {},
   "outputs": [],
   "source": [
    "# Import the backend\n",
    "backend = Aer.get_backend('qasm_simulator')\n",
    "\n",
    "# Creating a job and extracting results\n",
    "job = execute(entangled_circ, backend = backend, shots = 1024)\n",
    "result = job.result()\n",
    "counts = result.get_counts()"
   ]
  },
  {
   "cell_type": "code",
   "execution_count": null,
   "id": "bf0313d2",
   "metadata": {},
   "outputs": [],
   "source": [
    "# Plotting the counts\n",
    "plot_histogram(counts)    # Don't forget Qiskit uses a little-endian notation !"
   ]
  },
  {
   "cell_type": "markdown",
   "id": "34b06c59",
   "metadata": {},
   "source": [
    "### Other Bell States"
   ]
  },
  {
   "cell_type": "code",
   "execution_count": null,
   "id": "6defd71f",
   "metadata": {},
   "outputs": [],
   "source": [
    "# Do you know there are 4 different Bell States? Can you build a circuit for the rest 3 Bell States?"
   ]
  },
  {
   "cell_type": "markdown",
   "id": "604e358d",
   "metadata": {},
   "source": [
    "# Coming up Next: Quantum Algorithms!"
   ]
  }
 ],
 "metadata": {
  "kernelspec": {
   "display_name": "Python 3 (ipykernel)",
   "language": "python",
   "name": "python3"
  },
  "language_info": {
   "codemirror_mode": {
    "name": "ipython",
    "version": 3
   },
   "file_extension": ".py",
   "mimetype": "text/x-python",
   "name": "python",
   "nbconvert_exporter": "python",
   "pygments_lexer": "ipython3",
   "version": "3.9.7"
  }
 },
 "nbformat": 4,
 "nbformat_minor": 5
}
