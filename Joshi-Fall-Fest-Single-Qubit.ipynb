{
 "cells": [
  {
   "cell_type": "markdown",
   "id": "07d3965c",
   "metadata": {},
   "source": [
    "# Introduction to Quantum Computing with Qiskit\n",
    "\n",
    "Let's dive in to quantum programming using IBM's Software Development Kit (SDK) called $\\textit{Qiskit}$. Qiskit is based on the Python programming language and at this stage would not require any additional programming knowledge or expertise.\n",
    "\n",
    "Before we see how qubits are represented in circuits, let us import important modules from Qiskit. \n",
    "\n",
    "## Importing Libraries\n",
    "\n",
    "As a general overview, these modules help us to build quantum circuits (from qiskit.circuit module), while utlizing the Aer component of Qiskit (Qiskit Aer) to gain access to the simulators and hardware on the backend.\n",
    "\n",
    "The visualization module is imported to assist the visualization of the quuantum circuits using bloch sphere, qsphere or the results of measurement by plotting histograms."
   ]
  },
  {
   "cell_type": "code",
   "execution_count": null,
   "id": "81425615",
   "metadata": {},
   "outputs": [],
   "source": [
    "# Imports\n",
    "import numpy as np\n",
    "\n",
    "# Imports from Qiskit Terra\n",
    "from qiskit.circuit import QuantumCircuit\n",
    "from qiskit.visualization import plot_bloch_vector, plot_bloch_multivector, plot_state_qsphere, plot_histogram, visualize_transition\n",
    "from qiskit.quantum_info import Pauli, PauliList, Statevector\n",
    "\n",
    "# Imports from Qiskit Aer\n",
    "from qiskit import Aer, execute"
   ]
  },
  {
   "cell_type": "markdown",
   "id": "f98fe187",
   "metadata": {},
   "source": [
    "## Quantum Circuit Model \n",
    "\n",
    "A quantum circuit model consists of a desired number of qubits initialized to state $|0\\rangle$. These qubits can be manipulated with the help of quantum gates that ca be applied on these qubits until they decohere.\n",
    "\n",
    "<img src=\"images/circuit-model.png\" width=\"490\"/>\n",
    "\n",
    "### Single Qubit Cirucit\n",
    "\n",
    "A single qubit circuit, as the name suggests, is a quantum circuit with only 1 qubit. The $\\textit{QuantumCircuit}$ function from $\\textit{Qiskit}$ can be utilized to construct this circuit.\n",
    "\n",
    "<img src=\"images/single-qubit-circuit.png\" width=\"500\"/>\n",
    "\n",
    "In Ket notation, a single qubit circuit can be given as:\n",
    "\n",
    "$$|\\phi\\rangle = \\alpha|0\\rangle + \\beta|1\\rangle$$\n",
    "\n",
    "where,\n",
    "\n",
    "$$|\\alpha|^2 + |\\beta|^2 = 1$$"
   ]
  },
  {
   "cell_type": "code",
   "execution_count": null,
   "id": "b32b4e61",
   "metadata": {},
   "outputs": [],
   "source": [
    "# Creation of a single qubit circuit\n",
    "q_circ = QuantumCircuit()    # Mention number of quantum and classical bits in args\n",
    "\n",
    "# Display circuit\n",
    "q_circ.draw()"
   ]
  },
  {
   "cell_type": "markdown",
   "id": "3fa3c562",
   "metadata": {},
   "source": [
    "### Bloch Sphere Representation\n",
    "\n",
    "Apart from the ket notation and circuit model, qubits can be geometrically visualized in a high-dimensional space with the help of a $\\textit{Bloch Sphere}$. The bloch sphere is constructed with the help of 3 axes - X, Y, and Z and can represent any one qubit quantum state possible."
   ]
  },
  {
   "cell_type": "code",
   "execution_count": null,
   "id": "c7fafce8",
   "metadata": {},
   "outputs": [],
   "source": [
    "# Plot a Bloch sphere for state |0>\n",
    "plot_bloch_vector([0, 0, 1])"
   ]
  },
  {
   "cell_type": "markdown",
   "id": "013b6f62",
   "metadata": {},
   "source": [
    "### Multi Qubit Circuit\n",
    "\n",
    "Larger, multi-qubit circuits can be constructed in a similar way with the help of the $\\textit{QuantumCircuit}$ function.\n",
    "\n",
    "<img src=\"images/multi-qubit-circuit.png\" width=\"500\"/>"
   ]
  },
  {
   "cell_type": "code",
   "execution_count": null,
   "id": "cacb51f2",
   "metadata": {},
   "outputs": [],
   "source": [
    "# Creation of multi-qubit circuit\n",
    "q_multi = QuantumCircuit()    # Mention multi-quantum and classical bits in args\n",
    "\n",
    "# Display circuit\n",
    "q_multi.draw()"
   ]
  },
  {
   "cell_type": "markdown",
   "id": "7334a106",
   "metadata": {},
   "source": [
    "## Single Qubit Gates \n",
    "\n",
    "### Pauli-X ($\\sigma_x$) or X (NOT) Gate\n",
    "\n",
    "One of the first and most common operation applied on qubits is a NOT operation. This operation can be performed using the help of an X gate that rotates the state of a qubit around the X axis by 180°.\n",
    "\n",
    "Therefore, when a qubit is initialized to state $|0\\rangle$, X gate flips the state of the qubit to state $|1\\rangle$, and vice-versa.\n",
    "\n",
    "<img src=\"images/x-gate.png\" width=\"500\"/>\n",
    "\n",
    "Quantum gates, including the X gate are unitary gates that can be mathematically represented as a matrix. The X gate can be represented as below:\n",
    "\n",
    "$$\\sigma_X = \\begin{bmatrix} 0 & 1 \\\\ 1 & 0\\end{bmatrix}$$"
   ]
  },
  {
   "cell_type": "code",
   "execution_count": null,
   "id": "e3142e0d",
   "metadata": {},
   "outputs": [],
   "source": [
    "# Pauli-X representation as a matrix\n",
    "\n",
    "Pauli('X').to_matrix(sparse = False)"
   ]
  },
  {
   "cell_type": "code",
   "execution_count": null,
   "id": "08bea875",
   "metadata": {},
   "outputs": [],
   "source": [
    "x_circ = QuantumCircuit(1, 1)\n",
    "\n",
    "# Apply X gate to the qubit\n",
    "\n",
    "# Draw the circuit\n",
    "x_circ.draw()"
   ]
  },
  {
   "cell_type": "code",
   "execution_count": null,
   "id": "6f32a111",
   "metadata": {},
   "outputs": [],
   "source": [
    "# Bloch Sphere visualization\n",
    "state = Statevector(x_circ)    # Statevector of the circuit\n",
    "plot_bloch_multivector(state)"
   ]
  },
  {
   "cell_type": "code",
   "execution_count": null,
   "id": "e9fc3851",
   "metadata": {},
   "outputs": [],
   "source": [
    "# Visualize the effect of X gate\n",
    "visualize_transition(x_circ, trace = True, fpg = 15)"
   ]
  },
  {
   "cell_type": "markdown",
   "id": "27735d4b",
   "metadata": {},
   "source": [
    "### Other Single Qubit Gates - Pauli-Y, Pauli-Z, and Rotation Gates\n",
    "\n",
    "A Y-gate, similar to the X-gate, rotates the state of a qubit by 180° around the Y axis. Application of Y gate on a qubit results in the gain of an imaginary phase on to the qubit state.\n",
    "\n",
    "<img src=\"images/y-gate.png\" width=\"500\"/>\n",
    "\n",
    "Y gate can be represented by the given matrix:\n",
    "\n",
    "$$\\sigma_Y = \\begin{bmatrix} 0 & -i \\\\ i & 0\\end{bmatrix}$$"
   ]
  },
  {
   "cell_type": "code",
   "execution_count": null,
   "id": "1ed4139e",
   "metadata": {},
   "outputs": [],
   "source": [
    "# Your blank canvas!"
   ]
  },
  {
   "cell_type": "markdown",
   "id": "9914957e",
   "metadata": {},
   "source": [
    "A Z gate rotates the qubit state by 180° around the Z axis. Application of Z gate results in the gain of a negative phase on the qubit state in some cases.\n",
    "\n",
    "<img src=\"images/z-gate.png\" width=\"500\"/>\n",
    "\n",
    "Z gate can be represented by the given matrix:\n",
    "\n",
    "\n",
    "$$\\sigma_Z = \\begin{bmatrix} 1 & 0 \\\\ 0 & -1\\end{bmatrix}$$"
   ]
  },
  {
   "cell_type": "code",
   "execution_count": null,
   "id": "edbc49fa",
   "metadata": {},
   "outputs": [],
   "source": [
    "# Your blank canvas!"
   ]
  },
  {
   "cell_type": "markdown",
   "id": "1c039732",
   "metadata": {},
   "source": [
    "### Rotation Gates\n",
    "\n",
    "Rotation gates, like the name suggests, perform arbitrary rotation of the qubit state around any of the three axes of the bloch sphere. The Pauli-X, Y, and Z gate are special cases of the generic $R_X$, $R_Y$, and $R_Z$ gates. \n",
    "\n",
    "Now let us try to apply Rotation gates to the qubits!\n",
    "\n",
    "<img src=\"images/rotation-gates.png\" width=\"500\"/>\n",
    "\n",
    "Rotation gates can be represented using the following exponential form:\n",
    "\n",
    "$$R_N = \\exp\\left(-i \\frac{\\theta}{2} N\\right) = \\cos\\left(\\frac{\\theta}{2}\\right) I - i \\sin\\left(\\frac{\\theta}{2}\\right) N $$\n",
    "\n",
    "While applying the rotation gates in $\\textit{Qiskit}$, you need to provide the angle of rotation ($\\theta$) as the argument to the gate function. Let us see how this is done.\n",
    "\n",
    "Remember the angle of rotation provided as an argument in the Rotation gate is half of what you see on a bloch sphere !"
   ]
  },
  {
   "cell_type": "code",
   "execution_count": null,
   "id": "b3ad03fe",
   "metadata": {},
   "outputs": [],
   "source": [
    "rx_circ = QuantumCircuit(1, 1)\n",
    "\n",
    "# Apply Rx gate to the qubit\n",
    "rx_circ.rx(np.pi/2, 0)\n",
    "\n",
    "# Draw the circuit\n",
    "rx_circ.draw()"
   ]
  },
  {
   "cell_type": "code",
   "execution_count": null,
   "id": "bc1180c0",
   "metadata": {},
   "outputs": [],
   "source": [
    "# Bloch Sphere visualization\n",
    "state = Statevector(rx_circ)    # Statevector of the circuit\n",
    "plot_bloch_multivector(state)"
   ]
  },
  {
   "cell_type": "code",
   "execution_count": null,
   "id": "f8c7c61d",
   "metadata": {},
   "outputs": [],
   "source": [
    "# Visualize the effect of Rx gate\n",
    "visualize_transition(rx_circ, trace = True, fpg = 15)"
   ]
  },
  {
   "cell_type": "code",
   "execution_count": null,
   "id": "aa661bab",
   "metadata": {},
   "outputs": [],
   "source": [
    "# Try experimenting with Ry and Rz gates!"
   ]
  },
  {
   "cell_type": "markdown",
   "id": "cfb22594",
   "metadata": {},
   "source": [
    "### Hadamard Gate (Superposition)\n",
    "\n",
    "Superposition is one of the most important property of a quantum system. It is mathematically represented as a linear combination of the possible states of a qubit. \n",
    "\n",
    "A qubit, initialized to state $|0\\rangle$, can be taken to a state of superosition with the help of a Hadamard (H) gate. Taking such a qubit to superposition means that the qubit now has an equal probability of being in state $|0\\rangle$ or $|1\\rangle$.\n",
    "\n",
    "<img src=\"images/h-gate.png\" width=\"500\"/>\n",
    "\n",
    "Note: Hadamard gate produces a state of equal superposition where the two states $|0\\rangle$ and $|1\\rangle$ have an equal probability/amplitude.\n",
    "\n",
    "The H gate can be represented with the following matrix:\n",
    "\n",
    "\n",
    "$$H = \\frac{1}{\\sqrt{2}} \\begin{bmatrix} 1 & 1 \\\\ 1 & -1\\end{bmatrix}$$"
   ]
  },
  {
   "cell_type": "code",
   "execution_count": null,
   "id": "058765c6",
   "metadata": {},
   "outputs": [],
   "source": [
    "h_circ = QuantumCircuit(1, 1)\n",
    "\n",
    "# Apply H gate to the qubit\n",
    "h_circ.h(0)\n",
    "\n",
    "# Draw the circuit\n",
    "h_circ.draw()"
   ]
  },
  {
   "cell_type": "code",
   "execution_count": null,
   "id": "84924cdf",
   "metadata": {},
   "outputs": [],
   "source": [
    "# Bloch Sphere visualization\n",
    "state = Statevector(h_circ)    # Statevector of the circuit\n",
    "plot_bloch_multivector(state)"
   ]
  },
  {
   "cell_type": "code",
   "execution_count": null,
   "id": "75e2fbf6",
   "metadata": {},
   "outputs": [],
   "source": [
    "# Visualize the effect of H gate\n",
    "visualize_transition(h_circ, trace = True, fpg = 15)"
   ]
  },
  {
   "cell_type": "markdown",
   "id": "ddc139ad",
   "metadata": {},
   "source": [
    "### Unequal Superposition using a sequence of Single qubit Gates\n",
    "\n",
    "An unequal superposition state can be produced with the help of Rotation gates that we discussed above. Brainstorm and check what different states you can produce with the help of the $R_X$, $R_Y$, and $R_Z$ gates.\n",
    "\n",
    "<img src=\"images/unequal-superpos-gate.png\" width=\"500\"/>\n"
   ]
  },
  {
   "cell_type": "code",
   "execution_count": null,
   "id": "b5e63dc5",
   "metadata": {},
   "outputs": [],
   "source": [
    "uneq_superpos = QuantumCircuit(1, 1)\n",
    "\n",
    "# Apply series of single-qubit gates to create unequal superposition\n",
    "## APPLY GATE(S) HERE ##\n",
    "\n",
    "# Draw the circuit\n",
    "uneq_superpos.draw()"
   ]
  },
  {
   "cell_type": "code",
   "execution_count": null,
   "id": "5094e4c3",
   "metadata": {},
   "outputs": [],
   "source": [
    "# Visualize the transition"
   ]
  },
  {
   "cell_type": "markdown",
   "id": "c21a406c",
   "metadata": {},
   "source": [
    "## Measurement\n",
    "\n",
    "In order to extract results from the circuits built above, we need to measure the qubits in the circuit. This measurement is done with the help of measurement gates in $\\textit{Qiskit}$. \n",
    "\n",
    "<img src=\"images/x-meas.png\" width=\"500\"/>\n",
    "\n",
    "Measurement is a form of observation in quantum physics. When you introduce measurement to a circuit, you allow a third person to peek into the circuit and observe the state of the quantum object, here a qubit. The consequences of such an observation is a collapse in the quantumness of the system.\n",
    "\n",
    "In other words, qubits remain in a quantum state (like $|0\\rangle$ or $|1\\rangle$) until they are measured. After measuring/observing the qubits by the application of measurement gates the qubit collapses to provide a classical result (like $0$ or $1$).\n",
    "\n",
    "<img src=\"images/meas-collapse.png\" width=\"700\"/>"
   ]
  },
  {
   "cell_type": "code",
   "execution_count": null,
   "id": "3c501c1e",
   "metadata": {},
   "outputs": [],
   "source": [
    "# Grab the circuits (every circuit made till now has a different name)\n",
    "# Let's measure the x_circ\n",
    "\n",
    "# Add measurement gate\n",
    "\n",
    "# Draw circuit\n",
    "x_circ.draw()"
   ]
  },
  {
   "cell_type": "code",
   "execution_count": null,
   "id": "f3a09595",
   "metadata": {},
   "outputs": [],
   "source": [
    "# Measure the h_circ (superposition)\n",
    "# Add measurement gate\n",
    "\n",
    "# Draw circuit\n",
    "h_circ.draw()"
   ]
  },
  {
   "cell_type": "code",
   "execution_count": null,
   "id": "70a1eae7",
   "metadata": {},
   "outputs": [],
   "source": [
    "# What happens when you measure the unequal superposition circuit (uneq_superpos)?\n",
    "\n",
    "# Add measurement gate\n",
    "\n",
    "# Draw_circuit"
   ]
  },
  {
   "cell_type": "markdown",
   "id": "190f374d",
   "metadata": {},
   "source": [
    "## IBM Quantum Composer\n",
    "\n",
    "Let's see all of what we did on IBM's Quantum Circuit Composer. Use this link: https://quantum-computing.ibm.com/composer/files/new \n",
    "\n",
    "<!-- <img src=\"images/ibm-quantum-composer.png\" width=\"1000\"/> -->"
   ]
  },
  {
   "cell_type": "markdown",
   "id": "1ab4a2fd",
   "metadata": {},
   "source": [
    "# Coming up Next: How to get results from the measurements?"
   ]
  }
 ],
 "metadata": {
  "kernelspec": {
   "display_name": "Python 3 (ipykernel)",
   "language": "python",
   "name": "python3"
  },
  "language_info": {
   "codemirror_mode": {
    "name": "ipython",
    "version": 3
   },
   "file_extension": ".py",
   "mimetype": "text/x-python",
   "name": "python",
   "nbconvert_exporter": "python",
   "pygments_lexer": "ipython3",
   "version": "3.9.7"
  }
 },
 "nbformat": 4,
 "nbformat_minor": 5
}
